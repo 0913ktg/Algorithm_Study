{
 "cells": [
  {
   "cell_type": "code",
   "execution_count": 13,
   "metadata": {},
   "outputs": [
    {
     "name": "stdout",
     "output_type": "stream",
     "text": [
      "80\n"
     ]
    }
   ],
   "source": [
    "def gcd(w,h):\n",
    "    while h != 0:\n",
    "        (w,h) = (h,w%h)\n",
    "    return w\n",
    "\n",
    "# 멀쩡한 사각형\n",
    "def solution(w,h):\n",
    "    answer = 1\n",
    "    return w*h - (w+h-gcd(w,h))\n",
    "\n",
    "print(solution(12,8))"
   ]
  },
  {
   "cell_type": "code",
   "execution_count": 121,
   "metadata": {},
   "outputs": [],
   "source": [
    "# 주차 요금 계산\n",
    "import math\n",
    "\n",
    "# 시간 두 개를 입력받고 차이나는 분만큼 반환\n",
    "def time_diff(time1, time2):\n",
    "    t = int(time2.split(\":\")[0]) - int(time1.split(\":\")[0])\n",
    "    m = int(time2.split(\":\")[1]) - int(time1.split(\":\")[1])\n",
    "    if(m<0):\n",
    "        t-=1\n",
    "        m += 60\n",
    "    \n",
    "    return t*60 + m\n",
    "\n",
    "\n",
    "def solution(fees, records):\n",
    "    answer = []\n",
    "\n",
    "    car_records = {}\n",
    "    for record in records:\n",
    "        car_time = record.split(\" \")[0] # 주차 시간\n",
    "        car_number = record.split(\" \")[1] # 차량 번호\n",
    "        car_inOut = record.split(\" \")[2] # 출입 여부\n",
    "\n",
    "        # 딕셔너리의 key에 차량 번호를 넣고 value에 주차 시간과 출입 여부를 넣는다\n",
    "        car_records[car_number] = car_records.get(car_number,[])\n",
    "        car_records[car_number] += [car_time, car_inOut]\n",
    "\n",
    "    # 차량 번호에 따라 오름차순 정렬\n",
    "    # sorted(dictionaty.items())를 사용하여 정렬가능\n",
    "    car_records = dict(sorted(car_records.items()))\n",
    "\n",
    "    print(car_records)\n",
    "\n",
    "    # 딕셔너리에 들어있는 차량 수 만큼 반복\n",
    "    for car_number in car_records:\n",
    "        fee = 0\n",
    "        park_time = 0\n",
    "        # 입차만 되고 출차되지 않은 차는 23시59분에 강제 출차\n",
    "        if (len(car_records[car_number]) % 4 != 0):\n",
    "            car_records[car_number].append(\"23:59\")\n",
    "            car_records[car_number].append(\"OUT\")\n",
    "\n",
    "        # 각 차의 주차 시간을 구해주는 함수를 이용해 park_time을 구해준다\n",
    "        for i in range(0,len(car_records[car_number]),4):\n",
    "            park_time += time_diff(car_records[car_number][i], car_records[car_number][i+2])\n",
    "\n",
    "\n",
    "        # 주차 시간이 기본 시간보다 적은지 확인\n",
    "        # 기본 시간 보다 길면 추가 요금 발생\n",
    "        if(park_time<fees[0]):\n",
    "            fee = fees[1]\n",
    "        else:\n",
    "            fee = fees[1] + math.ceil((park_time-fees[0])/fees[2]) * fees[3]\n",
    "\n",
    "        answer.append(fee)\n",
    "\n",
    "    return answer"
   ]
  },
  {
   "cell_type": "code",
   "execution_count": 122,
   "metadata": {},
   "outputs": [
    {
     "name": "stdout",
     "output_type": "stream",
     "text": [
      "{'0000': ['06:00', 'IN', '06:34', 'OUT', '18:59', 'IN'], '0148': ['07:59', 'IN', '19:09', 'OUT'], '5961': ['05:34', 'IN', '07:59', 'OUT', '22:59', 'IN', '23:00', 'OUT']}\n",
      "[14600, 34400, 5000]\n"
     ]
    }
   ],
   "source": [
    "print(solution([180, 5000, 10, 600],[\"05:34 5961 IN\", \"06:00 0000 IN\", \"06:34 0000 OUT\", \"07:59 5961 OUT\", \"07:59 0148 IN\", \"18:59 0000 IN\", \"19:09 0148 OUT\", \"22:59 5961 IN\", \"23:00 5961 OUT\"]))"
   ]
  },
  {
   "cell_type": "code",
   "execution_count": 16,
   "metadata": {},
   "outputs": [],
   "source": [
    "# 시소 짝꿍\n",
    "def solution(weights):\n",
    "    answer = 0\n",
    "    weights_dict = {}\n",
    "    \n",
    "    for i in weights:\n",
    "        # dict.get을 이용해 key가 존재하지 않으면 기본값 0부터 시작\n",
    "        weights_dict[i] = weights_dict.get(i, 0) + 1\n",
    "\n",
    "    for i in weights_dict:\n",
    "        ## 같은 수 nC2로 짝을 지어준다\n",
    "        answer += int(weights_dict[i] * (weights_dict[i]-1)/2)\n",
    "        \n",
    "        ## 2-3 3-4 4-2 에서의 모든 경우의 수 더해준다\n",
    "        i_2 = i*2\n",
    "        if(i_2 % 3 == 0 and i_2 // 3 in weights_dict):\n",
    "            answer += weights_dict[i] * weights_dict[i_2//3]\n",
    "\n",
    "        i_3 = i*3\n",
    "        if(i_3 % 4 == 0 and i_3 // 4 in weights_dict):\n",
    "            answer += weights_dict[i] * weights_dict[i_3//4]\n",
    "\n",
    "        i_4 = i*4\n",
    "        if(i_4 % 2 == 0 and i_4 // 2 in weights_dict):\n",
    "            answer += weights_dict[i] * weights_dict[i_4//2]\n",
    "\n",
    "    return answer"
   ]
  }
 ],
 "metadata": {
  "kernelspec": {
   "display_name": "Python 3",
   "language": "python",
   "name": "python3"
  },
  "language_info": {
   "codemirror_mode": {
    "name": "ipython",
    "version": 3
   },
   "file_extension": ".py",
   "mimetype": "text/x-python",
   "name": "python",
   "nbconvert_exporter": "python",
   "pygments_lexer": "ipython3",
   "version": "3.10.9"
  },
  "orig_nbformat": 4,
  "vscode": {
   "interpreter": {
    "hash": "cc52d96607a82427c1aa322db933a9a72802011a78e71ce98e5fc6639468df7b"
   }
  }
 },
 "nbformat": 4,
 "nbformat_minor": 2
}
