{
 "cells": [
  {
   "cell_type": "code",
   "execution_count": 17,
   "metadata": {},
   "outputs": [],
   "source": [
    "def defense_solution(n, k, enemy):\n",
    "    round = 0\n",
    "    \n",
    "    # 1.현제 인덱스의 enemy 정보를 사용하기 위해 다음과 같은 배열 선언\n",
    "    enemy_tmp = []\n",
    "    \n",
    "    \n",
    "    for i in range(len(enemy)):\n",
    "    # 2. 만들어 준 배열에 현제 인덱스의 값을 넣고 각 적군의 합 변수 생성\n",
    "        enemy_tmp.append(enemy[i])\n",
    "        enemy_sum = sum(enemy_tmp)\n",
    "    # 3. 적군의의 합이 병사의 수보다 작다면 round pass \n",
    "        if n >= enemy_sum:\n",
    "            round += 1\n",
    "    # 4. 적군의 합이 병사의 수보다 크다면 무적권이 존제하는지 안하는지 검사 후\n",
    "    # 가장 적군이 많은 라운드에 무적권을 사용 후 round pass (이때 무적권이 없다면 end)\n",
    "        elif enemy_sum > n:\n",
    "            if k > 0 :\n",
    "                enemy_tmp[enemy_tmp.index(max(enemy_tmp))] = 0\n",
    "                k -= 1\n",
    "                round += 1\n",
    "            elif k == 0 : \n",
    "                break\n",
    "\n",
    "        # print(\"enemy[i] : \" + str(enemy[i]))\n",
    "        # print(\"enemy_sum : \" + str(enemy_sum))\n",
    "        # print(\"enemy_tmp : \" + str(enemy_tmp))\n",
    "        # print(\"enemy_arr : \" + str(enemy))\n",
    "        # print(\"k : \" + str(k))\n",
    "        # print(\"K_Change_Val : \" + str(enemy_tmp[enemy_tmp.index(max(enemy_tmp))]))\n",
    "        # print(\"\")\n",
    "                        \n",
    "    return round"
   ]
  },
  {
   "cell_type": "code",
   "execution_count": 18,
   "metadata": {},
   "outputs": [
    {
     "name": "stdout",
     "output_type": "stream",
     "text": [
      "enemy[i] : 9\n",
      "enemy_sum : 9\n",
      "enemy_tmp : [0]\n",
      "enemy_arr : [9, 3, 2, 7, 2, 8, 9, 10]\n",
      "k : 3\n",
      "K_Change_Val : 0\n",
      "\n",
      "enemy[i] : 3\n",
      "enemy_sum : 3\n",
      "enemy_tmp : [0, 3]\n",
      "enemy_arr : [9, 3, 2, 7, 2, 8, 9, 10]\n",
      "k : 3\n",
      "K_Change_Val : 3\n",
      "\n",
      "enemy[i] : 2\n",
      "enemy_sum : 5\n",
      "enemy_tmp : [0, 3, 2]\n",
      "enemy_arr : [9, 3, 2, 7, 2, 8, 9, 10]\n",
      "k : 3\n",
      "K_Change_Val : 3\n",
      "\n",
      "enemy[i] : 7\n",
      "enemy_sum : 12\n",
      "enemy_tmp : [0, 3, 2, 0]\n",
      "enemy_arr : [9, 3, 2, 7, 2, 8, 9, 10]\n",
      "k : 2\n",
      "K_Change_Val : 3\n",
      "\n",
      "enemy[i] : 2\n",
      "enemy_sum : 7\n",
      "enemy_tmp : [0, 3, 2, 0, 2]\n",
      "enemy_arr : [9, 3, 2, 7, 2, 8, 9, 10]\n",
      "k : 2\n",
      "K_Change_Val : 3\n",
      "\n",
      "enemy[i] : 8\n",
      "enemy_sum : 15\n",
      "enemy_tmp : [0, 3, 2, 0, 2, 0]\n",
      "enemy_arr : [9, 3, 2, 7, 2, 8, 9, 10]\n",
      "k : 1\n",
      "K_Change_Val : 3\n",
      "\n",
      "enemy[i] : 9\n",
      "enemy_sum : 16\n",
      "enemy_tmp : [0, 3, 2, 0, 2, 0, 0]\n",
      "enemy_arr : [9, 3, 2, 7, 2, 8, 9, 10]\n",
      "k : 0\n",
      "K_Change_Val : 3\n",
      "\n",
      "7\n"
     ]
    }
   ],
   "source": [
    "arr = [9,3,2,7,2,8,9,10]\n",
    "# arr2 = [3,3,3,3]\n",
    "# print(max(arr))\n",
    "# max(arr)\n",
    "\n",
    "print(defense_solution(8,4,arr)) \n",
    "# print(solution(2,4,arr2))"
   ]
  },
  {
   "cell_type": "code",
   "execution_count": 51,
   "metadata": {},
   "outputs": [],
   "source": [
    "def Hash_solution(clothes):\n",
    "\n",
    "    # 1. 옷을 종류별로 구분하기 2차원 배열로 들어온 clothes의 타입만을 검사해 \n",
    "    # type각 타입의 갯수를 저장 \n",
    "    hash_map = {}\n",
    "    for clothe, type in clothes:\n",
    "        \n",
    "        print(\"clothe : \" + str(clothe))\n",
    "        print(\"type : \" + str(type))\n",
    "\n",
    "        hash_map[type] = hash_map.get(type, 0) + 1\n",
    "\n",
    "\n",
    "    # 2. 아무 의류도 입지 않는 경우를 포함하여 모든 조합 계산하기\n",
    "    # 예시 : type1 갯수 x type2 갯수 x type3 갯수 = 모든 경우의 수 (아무것도 입지 않은 경우도 포함)\n",
    "    answer = 1\n",
    "    for type in hash_map:\n",
    "        print(\"hash_map[type] : \" + str(hash_map[type] + 1))\n",
    "        answer *= (hash_map[type] + 1)\n",
    "    \n",
    "    # 3. 아무종류의 옷도 입지 않는 경우 제외하기\n",
    "    return answer - 1"
   ]
  },
  {
   "cell_type": "code",
   "execution_count": 49,
   "metadata": {},
   "outputs": [
    {
     "name": "stdout",
     "output_type": "stream",
     "text": [
      "clothe : yellow_hat\n",
      "type : headgear\n",
      "1\n",
      "clothe : blue_sunglasses\n",
      "type : eyewear\n",
      "1\n",
      "clothe : green_turban\n",
      "type : headgear\n",
      "2\n",
      "clothe : blue_Aglasses\n",
      "type : tshirt\n",
      "1\n",
      "clothe : aaaa\n",
      "type : headgear\n",
      "3\n",
      "hash_map[type] : 4\n",
      "hash_map[type] : 2\n",
      "hash_map[type] : 2\n",
      "15\n"
     ]
    }
   ],
   "source": [
    "a = [[\"yellow_hat\", \"headgear\"], [\"blue_sunglasses\", \"eyewear\"], [\"green_turban\", \"headgear\"],[\"blue_Aglasses\", \"tshirt\"],[\"aaaa\",\"headgear\"]]\t\n",
    "print(Hash_solution(a))"
   ]
  },
  {
   "cell_type": "code",
   "execution_count": 59,
   "metadata": {},
   "outputs": [],
   "source": [
    "def Hindex_solution(citations):\n",
    "    answer = 0\n",
    "    # 1. citations을 오름차순으로 정렬합니다.\n",
    "    citations.sort()\n",
    "\n",
    "    # 2. citations 길이 n을 구합니다.\n",
    "    n = len(citations)\n",
    "\n",
    "    # 3. 0~n까지 다음을 반복합니다\n",
    "    for i in range(n):\n",
    "\n",
    "        # 1. hIndex는 n-i입니다.\n",
    "        # hIndex 는 반복을 진행 하며 5, 4, 3, 2, 1 의 순서로 줄어든다.\n",
    "        hIndex = n-i\n",
    "        \n",
    "        # 2. citations[i]가 hIndex보다 크거나 같으면, answer에 hIndex를 저장하고 반복을 멈춥니다. \n",
    "        # citations[i] >= hIndex 조건이 참이 되려면 citations[i] 즉 인용된 횟수가 citations[i] 이상인 논문들이 hIndex개 이상 있다 \n",
    "        # hIndex의 또다른 조건인 나머지 논문들의 인용 횟수는 citations[i] 이하여야 한다는 조건은 오름차순으로 정렬된 배열임으로 자동 달성\n",
    "        \n",
    "        if citations[i] >= hIndex:\n",
    "            answer = hIndex\n",
    "            break\n",
    "    \n",
    "    return answer"
   ]
  },
  {
   "cell_type": "code",
   "execution_count": 45,
   "metadata": {},
   "outputs": [],
   "source": [
    "def Hindex_solution2(citations):\n",
    "    citations.sort(reverse=True)\n",
    "    for idx , citation in enumerate(citations):\n",
    "        if idx >= citation:\n",
    "            return idx\n",
    "    return len(citations)"
   ]
  },
  {
   "cell_type": "code",
   "execution_count": 57,
   "metadata": {},
   "outputs": [
    {
     "name": "stdout",
     "output_type": "stream",
     "text": [
      "3\n",
      "3\n"
     ]
    }
   ],
   "source": [
    "a = [0,1,3,5,6]\t\n",
    "print(Hindex_solution(a))\n",
    "print(Hindex_solution2(a))"
   ]
  }
 ],
 "metadata": {
  "kernelspec": {
   "display_name": "Python 3",
   "language": "python",
   "name": "python3"
  },
  "language_info": {
   "codemirror_mode": {
    "name": "ipython",
    "version": 3
   },
   "file_extension": ".py",
   "mimetype": "text/x-python",
   "name": "python",
   "nbconvert_exporter": "python",
   "pygments_lexer": "ipython3",
   "version": "3.7.0"
  },
  "orig_nbformat": 4,
  "vscode": {
   "interpreter": {
    "hash": "d3786739c9f69915bdd5ca87591c61f06fda2b05b57e9a555442a493650656f2"
   }
  }
 },
 "nbformat": 4,
 "nbformat_minor": 2
}
