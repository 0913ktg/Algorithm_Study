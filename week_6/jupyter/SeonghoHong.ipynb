{
 "cells": [
  {
   "cell_type": "code",
   "execution_count": 68,
   "metadata": {},
   "outputs": [],
   "source": [
    "from collections import Counter\n",
    "\n",
    "def combination(arr, n):\n",
    "    result = []\n",
    "    if n == 0:\n",
    "        return [[]]\n",
    "    \n",
    "    for i in range(len(arr)):\n",
    "        elem = arr[i]\n",
    "        for rest in combination(arr[i + 1:], n - 1):\n",
    "            result.append([elem] + rest)\n",
    "    return result\n",
    "\n",
    "def solution(orders, course):\n",
    "    answer = []\n",
    "    \n",
    "    for length in course:\n",
    "        order_list = []\n",
    "\n",
    "        # 각 손님의 order에서 length 길이의 조합을 만들어 준다.\n",
    "        for order in orders:\n",
    "            for combi in combination(order, length):\n",
    "                order_list.append(''.join(sorted(combi)))\n",
    "                \n",
    "        # 해당 조합의 빈도수를 Counter를 이용해 구해준다.\n",
    "        order_list = Counter(order_list).most_common()\n",
    "\n",
    "        # 빈도수가 제일 많은 코스요리 구성을 answer에 추가\n",
    "        # 빈도수를 기준으로 정렬했기 때문에 [0][1]이 최대 빈도\n",
    "        for word, cnt in order_list:\n",
    "            if cnt > 1 and cnt == order_list[0][1]:\n",
    "                answer.append(word)\n",
    "            else:\n",
    "                break \n",
    "        \n",
    "    return sorted(answer)"
   ]
  },
  {
   "cell_type": "code",
   "execution_count": 69,
   "metadata": {},
   "outputs": [
    {
     "name": "stdout",
     "output_type": "stream",
     "text": [
      "['ACD', 'AD', 'ADE', 'CD', 'XYZ']\n"
     ]
    }
   ],
   "source": [
    "print(solution(\t[\"ABCDE\", \"AB\", \"CD\", \"ADE\", \"XYZ\", \"XYZ\", \"ACD\"],[2,3,5]))"
   ]
  },
  {
   "cell_type": "code",
   "execution_count": 132,
   "metadata": {},
   "outputs": [],
   "source": [
    "def gcd(a,b):\n",
    "    while b>0:\n",
    "        a,b = b,a%b\n",
    "    return a\n",
    "\n",
    "def gcd_array(arr):\n",
    "    gcd_num = arr[0]\n",
    "    for item in arr[0:]:\n",
    "        gcd_num=gcd(gcd_num,item)\n",
    "    return gcd_num\n",
    "\n",
    "def solution(arrayA, arrayB):\n",
    "    arrayA_gcd = gcd_array(arrayA)\n",
    "    arrayB_gcd = gcd_array(arrayB)\n",
    "\n",
    "    for i in arrayA:\n",
    "        if i % arrayB_gcd == 0:\n",
    "            arrayB_gcd = 0\n",
    "            break\n",
    "\n",
    "    for i in arrayB:\n",
    "        if i % arrayA_gcd == 0:\n",
    "            arrayA_gcd = 0\n",
    "            break\n",
    "\n",
    "    \n",
    "    return max(arrayA_gcd,arrayB_gcd)"
   ]
  },
  {
   "cell_type": "code",
   "execution_count": 133,
   "metadata": {},
   "outputs": [
    {
     "name": "stdout",
     "output_type": "stream",
     "text": [
      "0\n"
     ]
    }
   ],
   "source": [
    "print(solution([2, 4],[4, 8]))"
   ]
  },
  {
   "cell_type": "code",
   "execution_count": 70,
   "metadata": {},
   "outputs": [],
   "source": [
    "# 진법 n\n",
    "# 말해야 하는 숫자의 개수 t\n",
    "# 참가 인원 m\n",
    "# 튜브 순서 p\n",
    "\n",
    "def make_essence(n, k):\n",
    "    essence = \"\"\n",
    "    while(n>0):\n",
    "        n, mod = divmod(n,k)\n",
    "        # 나머지가 10보다 크거나 같으면 A~F로 변환\n",
    "        if(mod >= 10):\n",
    "            mod = (hex(mod)[-1]).upper()\n",
    "        essence += str(mod)\n",
    "\n",
    "    # 진수 문자열 역 변환\n",
    "    return essence[::-1]\n",
    "\n",
    "def solution(n, t, m, p):\n",
    "    tube_array = \"\"\n",
    "    game_array = \"0\"\n",
    "\n",
    "    # 게임에서 진행할 숫자의 총 길이\n",
    "    array_sum = p + (t-1) * m\n",
    "\n",
    "    # 1부터 array_sum까지 n진법의 수 추가\n",
    "    game_number = 1\n",
    "    while(len(game_array) < array_sum):\n",
    "        game_number_copy = game_number\n",
    "        essence = make_essence(game_number_copy, n)\n",
    "        print(essence)\n",
    "        game_array += essence\n",
    "        game_number += 1\n",
    "\n",
    "    # 주인공이 말해야할 숫자만 인덱싱\n",
    "    tube_array = game_array[p-1::m]\n",
    "    \n",
    "    return tube_array[0:t]"
   ]
  },
  {
   "cell_type": "code",
   "execution_count": 71,
   "metadata": {},
   "outputs": [
    {
     "name": "stdout",
     "output_type": "stream",
     "text": [
      "1\n",
      "2\n",
      "3\n",
      "4\n",
      "5\n",
      "6\n",
      "7\n",
      "8\n",
      "9\n",
      "A\n",
      "B\n",
      "C\n",
      "D\n",
      "E\n",
      "F\n",
      "10\n",
      "11\n",
      "12\n",
      "13\n",
      "14\n",
      "15\n",
      "16\n",
      "17\n",
      "02468ACE11111111\n"
     ]
    }
   ],
   "source": [
    "print(solution(16,16,2,1))"
   ]
  }
 ],
 "metadata": {
  "kernelspec": {
   "display_name": "Python 3",
   "language": "python",
   "name": "python3"
  },
  "language_info": {
   "codemirror_mode": {
    "name": "ipython",
    "version": 3
   },
   "file_extension": ".py",
   "mimetype": "text/x-python",
   "name": "python",
   "nbconvert_exporter": "python",
   "pygments_lexer": "ipython3",
   "version": "3.10.9"
  },
  "orig_nbformat": 4,
  "vscode": {
   "interpreter": {
    "hash": "cc52d96607a82427c1aa322db933a9a72802011a78e71ce98e5fc6639468df7b"
   }
  }
 },
 "nbformat": 4,
 "nbformat_minor": 2
}
