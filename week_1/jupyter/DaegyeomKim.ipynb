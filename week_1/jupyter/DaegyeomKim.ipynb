{
 "cells": [
  {
   "cell_type": "code",
   "execution_count": 7,
   "metadata": {},
   "outputs": [],
   "source": [
    "# 스킬트리\n",
    "\n",
    "skill = \"CBD\"\n",
    "skill_trees = [\"BACDE\", \"CBADF\", \"AECB\", \"BDA\"]\t\n",
    "# answer = 2\n",
    "\n",
    "def solution(skill, skill_trees):\n",
    "    answer = 0\n",
    "    \n",
    "    for skills in skill_trees:\n",
    "        s_index = 0\n",
    "        is_ok = True\n",
    "        \n",
    "        skills = \"\".join([x for x in skills if x in skill])        \n",
    "        \n",
    "        for s in skills:\n",
    "            if s == skill[s_index]:\n",
    "                s_index += 1\n",
    "            else:\n",
    "                is_ok = False\n",
    "        \n",
    "        if is_ok:\n",
    "            answer += 1\n",
    "            \n",
    "    return answer"
   ]
  },
  {
   "cell_type": "code",
   "execution_count": 8,
   "metadata": {},
   "outputs": [
    {
     "data": {
      "text/plain": [
       "2"
      ]
     },
     "execution_count": 8,
     "metadata": {},
     "output_type": "execute_result"
    }
   ],
   "source": [
    "solution(skill, skill_trees)"
   ]
  },
  {
   "cell_type": "code",
   "execution_count": 11,
   "metadata": {},
   "outputs": [],
   "source": [
    "# 타겟 넘버\n",
    "\n",
    "numbers = [1, 1, 1, 1, 1]\t\n",
    "target = 3\t\n",
    "# return = 5\n",
    "# numbers = [4, 1, 2, 1]\t\n",
    "# target = 4\t\n",
    "# return = 2\n",
    "\n",
    "def solution(numbers, target):\n",
    "    answer = 0\n",
    "    tree = [0]\n",
    "    for number in numbers:\n",
    "        temp = []\n",
    "        for parent in tree:\n",
    "            temp.append(parent + number)\n",
    "            temp.append(parent - number)\n",
    "        tree = temp\n",
    "        print(tree)\n",
    "        \n",
    "    for node in tree:\n",
    "        if node == target:\n",
    "            answer += 1\n",
    "        \n",
    "    return answer"
   ]
  },
  {
   "cell_type": "code",
   "execution_count": 12,
   "metadata": {},
   "outputs": [
    {
     "name": "stdout",
     "output_type": "stream",
     "text": [
      "[1, -1]\n",
      "[2, 0, 0, -2]\n",
      "[3, 1, 1, -1, 1, -1, -1, -3]\n",
      "[4, 2, 2, 0, 2, 0, 0, -2, 2, 0, 0, -2, 0, -2, -2, -4]\n",
      "[5, 3, 3, 1, 3, 1, 1, -1, 3, 1, 1, -1, 1, -1, -1, -3, 3, 1, 1, -1, 1, -1, -1, -3, 1, -1, -1, -3, -1, -3, -3, -5]\n"
     ]
    },
    {
     "data": {
      "text/plain": [
       "5"
      ]
     },
     "execution_count": 12,
     "metadata": {},
     "output_type": "execute_result"
    }
   ],
   "source": [
    "solution(numbers, target)"
   ]
  }
 ],
 "metadata": {
  "kernelspec": {
   "display_name": "Python 3",
   "language": "python",
   "name": "python3"
  },
  "language_info": {
   "codemirror_mode": {
    "name": "ipython",
    "version": 3
   },
   "file_extension": ".py",
   "mimetype": "text/x-python",
   "name": "python",
   "nbconvert_exporter": "python",
   "pygments_lexer": "ipython3",
   "version": "3.8.10"
  },
  "orig_nbformat": 4,
  "vscode": {
   "interpreter": {
    "hash": "31f2aee4e71d21fbe5cf8b01ff0e069b9275f58929596ceb00d14d90e3e16cd6"
   }
  }
 },
 "nbformat": 4,
 "nbformat_minor": 2
}
