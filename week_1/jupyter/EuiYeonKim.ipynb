{
 "cells": [
  {
   "cell_type": "code",
   "execution_count": 2,
   "metadata": {},
   "outputs": [],
   "source": [
    "def next_big_num(n):\n",
    "    # bin함수를 사용하면 이진수 앞에 0b라는 문자가 포함되기 때문에 slicing해줌\n",
    "    str_bin = list(bin(n)[2:])\n",
    "    # 1의 갯수\n",
    "    print(f\"초기 2진수: {str_bin}\")\n",
    "    one_cnt = str_bin.count('1')\n",
    "\n",
    "    # 큰 수중에서 가장 작은 값이기 때문에 뒤집어서 아래자리수부터 확인함\n",
    "    str_bin.reverse()\n",
    "    # 자리올림이 있을 경우를 대비해서 0을 추가\n",
    "    str_bin.append('0')\n",
    "    print(f\"순서를 뒤집고 0 추가: {str_bin}\")\n",
    "\n",
    "    answer = None\n",
    "\n",
    "    # 가장 아랫자리에 있는 1에 1을 더해 10으로 만들어주어야함\n",
    "    # 따라서 뒤집었을 때 기준으로 10이 반복될 때 1을 더해서 01이 되게 하면됨\n",
    "    for i in range(len(str_bin)):\n",
    "        if str_bin[i] == '1' and str_bin[i + 1] == '0':  \n",
    "            str_bin[i + 1], str_bin[i] = '1', '0'\n",
    "\n",
    "            # 자리올림을 위해 넣어두었던 자리를 자리올림이 안되었을 때 없애줌\n",
    "            if str_bin[-1] != '1':\n",
    "                del str_bin[-1]\n",
    "            # 자리올림이 된 이후의 부분만 추출(남은 1을 아래부터 채우기 위함)\n",
    "            answer = str_bin[i:]\n",
    "            break\n",
    "    \n",
    "    # 1을 채울 나머지 부분 선언\n",
    "    rest_bits = ['0'] * (len(str_bin) - len(answer))\n",
    "    # 처음부터 1을 남은 1의 수만큼 채워넣음\n",
    "    for i in range(one_cnt - answer.count('1')):\n",
    "        rest_bits[i] = '1'\n",
    "\n",
    "    # 모두 뒤집어서 진행했기 때문에 다시 뒤집어줌\n",
    "    answer.reverse()\n",
    "    rest_bits.reverse()\n",
    "    print(f\"1을 더해주는 과정이 지난 후 추출한 리스트: {answer}\")\n",
    "    print(f\"남은 1을 집어 넣기 위한 리스트: {rest_bits}\")\n",
    "    # 두 list를 합쳐줌\n",
    "    answer.extend(rest_bits)\n",
    "    # 이진수 리스트 형태이기 때문에 10진수로 바꿔줌 int(n진수, n)\n",
    "    answer = int('0b' + ''.join(answer), 2)\n",
    "    \n",
    "    return answer"
   ]
  },
  {
   "cell_type": "code",
   "execution_count": 1,
   "metadata": {},
   "outputs": [],
   "source": [
    "def tiling(n):\n",
    "    if n % 2 == 1:\n",
    "        return 0\n",
    "    answer = 0\n",
    "    #상하 가로 타일의 갯수\n",
    "    even_n = int(n / 2)\n",
    "    \n",
    "    # if even_n < 4:\n",
    "    #     arr = [0, 3, 11, 41]\n",
    "    #     return arr[even_n] % 1000000007\n",
    "\n",
    "    # 각 index는 n / 2일 때 타일을 채울 때 방법의 수를 의미 (홀수일 경우를 무시하기 위해 2로 나눔)\n",
    "    arr = [0] * (even_n + 1)\n",
    "\n",
    "    arr[0] = 0\n",
    "    arr[1] = 3\n",
    "    # arr[2] = 11\n",
    "    # arr[3] = 41\n",
    "\n",
    "    # 0번째는 사실상 없다고 치기 떄문에 even_n + 1 까지 반복\n",
    "    for i in range(2, even_n + 1):\n",
    "        arr[i] += 3 * arr[i - 1] \n",
    "\n",
    "        # 가운대를 한번 가로지를 때부터 양 옆에 1만큼을 제외하고 모드 가로지를 때 까지의 경우\n",
    "        for j in range(2, i):\n",
    "            arr[i] += 2 * arr[i - j]\n",
    "\n",
    "        arr[i] += 2\n",
    "\n",
    "\n",
    "    answer = arr[even_n]\n",
    "    \n",
    "    return answer % 1000000007"
   ]
  },
  {
   "cell_type": "code",
   "execution_count": 3,
   "metadata": {},
   "outputs": [
    {
     "name": "stdout",
     "output_type": "stream",
     "text": [
      "초기 2진수: ['1', '0', '0', '1', '1', '1', '0']\n",
      "순서를 뒤집고 0 추가: ['0', '1', '1', '1', '0', '0', '1', '0']\n",
      "1을 더해주는 과정이 지난 후 추출한 리스트: ['1', '0', '1', '0']\n",
      "남은 1을 집어 넣기 위한 리스트: ['0', '1', '1']\n"
     ]
    },
    {
     "data": {
      "text/plain": [
       "83"
      ]
     },
     "execution_count": 3,
     "metadata": {},
     "output_type": "execute_result"
    }
   ],
   "source": [
    "next_big_num(78)"
   ]
  },
  {
   "cell_type": "code",
   "execution_count": 4,
   "metadata": {},
   "outputs": [
    {
     "data": {
      "text/plain": [
       "571"
      ]
     },
     "execution_count": 4,
     "metadata": {},
     "output_type": "execute_result"
    }
   ],
   "source": [
    "tiling(10)"
   ]
  }
 ],
 "metadata": {
  "kernelspec": {
   "display_name": "Python 3",
   "language": "python",
   "name": "python3"
  },
  "language_info": {
   "codemirror_mode": {
    "name": "ipython",
    "version": 3
   },
   "file_extension": ".py",
   "mimetype": "text/x-python",
   "name": "python",
   "nbconvert_exporter": "python",
   "pygments_lexer": "ipython3",
   "version": "3.11.1"
  },
  "orig_nbformat": 4,
  "vscode": {
   "interpreter": {
    "hash": "7cdde6be2ce61636954944a5e9b1c358dff3df7ed2ca2b196c05426cdab6309a"
   }
  }
 },
 "nbformat": 4,
 "nbformat_minor": 2
}
