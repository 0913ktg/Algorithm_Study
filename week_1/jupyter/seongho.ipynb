{
 "cells": [
  {
   "cell_type": "code",
   "execution_count": 5,
   "metadata": {},
   "outputs": [],
   "source": [
    "# 숫자블록\n",
    "def solution(begin, end):\n",
    "    answer = []\n",
    "    divisor = []\n",
    "    for i in range(begin, end+1):\n",
    "        divisor = [1] # 약수 1을 미리 넣고 시작\n",
    "        for j in range(2, int(i**(1/2))+1): # 자기 자신의 약수를 제외시키기 위해 2부터 시작\n",
    "            if(i % j == 0 and i//j<10000000):\n",
    "                divisor.append(i//j) # 제곱근 N까지의 약수를 구한 후 N//j를 통해 뒤의 약수부터 대입\n",
    "                                     # (반복문이 2부터 시작하기 때문에 자기 자신의 약수는 들어가지 않음)\n",
    "        if(len(divisor) == 1): # 약수가 1개일 때 즉, 소수일 때 divisor[0] 출력\n",
    "            answer.append(divisor[0])\n",
    "        else:                  # 약수가 2개 이상일 때 divisor[1] 출력\n",
    "            answer.append(divisor[1])\n",
    "    \n",
    "    if(begin==1):\n",
    "        answer[0] = 0\n",
    "\n",
    "    return answer"
   ]
  },
  {
   "cell_type": "code",
   "execution_count": 6,
   "metadata": {},
   "outputs": [
    {
     "name": "stdout",
     "output_type": "stream",
     "text": [
      "[5, 1, 6, 1, 7, 5, 8, 1, 9, 1, 10]\n"
     ]
    }
   ],
   "source": [
    "print(solution(10,20))"
   ]
  },
  {
   "cell_type": "code",
   "execution_count": 7,
   "metadata": {},
   "outputs": [],
   "source": [
    "# 구명보트\n",
    "from collections import deque\n",
    "\n",
    "def solution(people, limit):\n",
    "    answer = 0\n",
    "    people.sort() # 파이썬의 TimSort를 이용하여 정렬 (삽입 + 병렬의 조합)\n",
    "    people = deque(people) # people 리스트를 deque로 변환\n",
    "\n",
    "    while(people):\n",
    "        if(len(people)<2):\n",
    "            answer+=1\n",
    "            return answer\n",
    "        if(people[0] + people[-1] <= limit):\n",
    "            answer += 1\n",
    "            people.pop()\n",
    "            people.popleft()\n",
    "        else:\n",
    "            answer += 1\n",
    "            people.pop()\n",
    "\n",
    "    return answer"
   ]
  },
  {
   "cell_type": "code",
   "execution_count": 8,
   "metadata": {},
   "outputs": [
    {
     "data": {
      "text/plain": [
       "3"
      ]
     },
     "execution_count": 8,
     "metadata": {},
     "output_type": "execute_result"
    }
   ],
   "source": [
    "solution([70, 50, 80, 50], 100)"
   ]
  }
 ],
 "metadata": {
  "kernelspec": {
   "display_name": "Python 3",
   "language": "python",
   "name": "python3"
  },
  "language_info": {
   "codemirror_mode": {
    "name": "ipython",
    "version": 3
   },
   "file_extension": ".py",
   "mimetype": "text/x-python",
   "name": "python",
   "nbconvert_exporter": "python",
   "pygments_lexer": "ipython3",
   "version": "3.10.9"
  },
  "orig_nbformat": 4,
  "vscode": {
   "interpreter": {
    "hash": "cc52d96607a82427c1aa322db933a9a72802011a78e71ce98e5fc6639468df7b"
   }
  }
 },
 "nbformat": 4,
 "nbformat_minor": 2
}
