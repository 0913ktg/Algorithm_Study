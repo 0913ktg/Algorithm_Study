{
 "cells": [
  {
   "attachments": {},
   "cell_type": "markdown",
   "metadata": {},
   "source": [
    "# 점 찍기"
   ]
  },
  {
   "cell_type": "code",
   "execution_count": null,
   "metadata": {},
   "outputs": [],
   "source": [
    "import math\n",
    "\n",
    "def solution(k, d):\n",
    "    answer = 0\n",
    "\n",
    "    for x in range(0, d + 1, k):\n",
    "        max_y = int(math.sqrt(d**2 - x**2) // k)\n",
    "        # print(max_y)\n",
    "        answer += max_y + 1\n",
    "\n",
    "    return answer"
   ]
  },
  {
   "attachments": {},
   "cell_type": "markdown",
   "metadata": {},
   "source": [
    "# 두 큐 합 같게 만들기"
   ]
  },
  {
   "cell_type": "code",
   "execution_count": null,
   "metadata": {},
   "outputs": [],
   "source": [
    "from collections import deque\n",
    "\n",
    "def solution(queue1, queue2):\n",
    "    # 큐 두 개를 시간복잡도를 위해 deque로 선언\n",
    "    queue1 = deque(queue1)\n",
    "    queue2 = deque(queue2)\n",
    "\n",
    "    total_sum = sum(queue1) + sum(queue2)\n",
    "    # 만약 홀수라면 같은 합을 만들 수 없음\n",
    "    if total_sum % 2 == 1:\n",
    "        return -1\n",
    "\n",
    "    # 하나의 큐의 합이 되어야할 수\n",
    "    target_sum = int(total_sum / 2)\n",
    "\n",
    "    # 시행 횟수\n",
    "    count = 0\n",
    "    # 최악의 경우 한 큐에서 다른 큐로 모두 옮기고 \n",
    "    max_iter = 3 * len(queue1)\n",
    "\n",
    "    q1_sum = sum(queue1)\n",
    "    while count <  max_iter:\n",
    "        # 만족 조건\n",
    "        if q1_sum == target_sum:\n",
    "            return count\n",
    "        # 수가 더 작으면 추가해주어야함\n",
    "        elif q1_sum < target_sum:\n",
    "            queue1.append(queue2.popleft())\n",
    "            q1_sum += queue1[-1]\n",
    "        # 수가 더 크면 빼주어야함\n",
    "        else:\n",
    "            queue2.append(queue1.popleft())\n",
    "            q1_sum -= queue2[-1]\n",
    "        count += 1\n",
    "    \n",
    "    return -1"
   ]
  },
  {
   "attachments": {},
   "cell_type": "markdown",
   "metadata": {},
   "source": [
    "# 괄호 변환"
   ]
  },
  {
   "cell_type": "code",
   "execution_count": null,
   "metadata": {},
   "outputs": [],
   "source": [
    "from collections import deque\n",
    "import sys\n",
    "\n",
    "def check_bracket(p):\n",
    "    p = deque(p)\n",
    "    stack = deque()\n",
    "\n",
    "    while p:\n",
    "        pop_chr = p.popleft()\n",
    "\n",
    "        if pop_chr == ')':\n",
    "            if len(stack) == 0 or stack[0] != '(':\n",
    "                return False\n",
    "            else:\n",
    "                stack.popleft()\n",
    "        else:\n",
    "            stack.append(pop_chr)\n",
    "    return True\n",
    "\n",
    "    \n",
    "def devide_bracket(p):\n",
    "    left_cnt = 0\n",
    "    right_cnt = 0\n",
    "\n",
    "    for i, char in enumerate(p):\n",
    "        if char == '(':\n",
    "            right_cnt += 1\n",
    "        else:\n",
    "            left_cnt += 1\n",
    "\n",
    "        if left_cnt == right_cnt:\n",
    "            return p[:i+1], p[i+1:]\n",
    "    return \"\", \"\"\n",
    "\n",
    "def turn_bracket(p):\n",
    "    \n",
    "    turnned = ''\n",
    "\n",
    "    for c in p:\n",
    "        if c == ')':\n",
    "            turnned += '('\n",
    "        else:\n",
    "            turnned += ')'\n",
    "\n",
    "    return turnned\n",
    "\n",
    "def convert_braket(s, p):\n",
    "    u, v = devide_bracket(p)\n",
    "\n",
    "    if v == '' and check_bracket(u):\n",
    "        return s\n",
    "\n",
    "    if check_bracket(u):\n",
    "        s += u\n",
    "        return convert_braket(s, v)\n",
    "    else :\n",
    "        if check_bracket(v):\n",
    "            recurs_v = v\n",
    "        else:\n",
    "            recurs_v = convert_braket(\"\", v)\n",
    "        u = u[1:-1]\n",
    "        s += \"(\" + recurs_v + \")\" + turn_bracket(u)\n",
    "        return s\n",
    "    \n",
    "\n",
    "def solution(p):\n",
    "    answer = ''\n",
    "    if p == '':\n",
    "        return answer  \n",
    "\n",
    "    if check_bracket(p):\n",
    "        return p\n",
    "    \n",
    "    return convert_braket(\"\", p)"
   ]
  }
 ],
 "metadata": {
  "kernelspec": {
   "display_name": "Python 3",
   "language": "python",
   "name": "python3"
  },
  "language_info": {
   "name": "python",
   "version": "3.11.1"
  },
  "orig_nbformat": 4,
  "vscode": {
   "interpreter": {
    "hash": "7cdde6be2ce61636954944a5e9b1c358dff3df7ed2ca2b196c05426cdab6309a"
   }
  }
 },
 "nbformat": 4,
 "nbformat_minor": 2
}
