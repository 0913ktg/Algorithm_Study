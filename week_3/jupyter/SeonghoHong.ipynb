{
 "cells": [
  {
   "cell_type": "code",
   "execution_count": 11,
   "metadata": {},
   "outputs": [],
   "source": [
    "# 파이썬 최대 재귀 횟수는 1000번가지 가능하기 때문에\n",
    "# sys.setrecursionlimit(limit_number)로 제한 해제\n",
    "import sys\n",
    "sys.setrecursionlimit(10**6)\n",
    "\n",
    "def solution(maps):\n",
    "    answer = []\n",
    "\n",
    "    # 1차원 배열로 들어온 지도 정보를 2차원 배열로 변환\n",
    "    island = [[] for i in range(len(maps))]\n",
    "    for i in range(0,len(maps)):\n",
    "        for j in range(0,len(maps[0])):\n",
    "            island[i].append(maps[i][j])\n",
    "\n",
    "    # 최대 y길이와 x길이 저장\n",
    "    max_y = len(maps) - 1\n",
    "    max_x = len(maps[0]) - 1\n",
    "\n",
    "    # 현재까지 방문한 위치를 저장하는 배열\n",
    "    # ex) [[0,0],[0,1]] => 0,0과 0,1을 방문함\n",
    "    visited = []\n",
    "\n",
    "    def move(y, x, food, visited):\n",
    "        food = 0\n",
    "\n",
    "        # 재귀문 탈출 조건 1. x < 0, y < 0, x > 열의 개수, y > 행의 개수\n",
    "        # 재귀문 탈출 조건 2. 현재 위치가 X일 때\n",
    "        # 재귀문 탈출 조건 3. 현재 위치가 이미 방문한 곳일 때\n",
    "        if(x < 0 or x > max_x or y < 0 or y > max_y):\n",
    "            return food\n",
    "        if(island[y][x] == \"X\" or [y, x] in visited):\n",
    "            return food\n",
    "        if([y, x] in visited):\n",
    "            return food\n",
    "\n",
    "        # 위의 탈출 조건에 걸리지 않는다면 좌우상하 중 하나로 이동\n",
    "        else:\n",
    "            visited.append([y,x])\n",
    "            food += int(island[y][x])\n",
    "\n",
    "            food += move(y,x+1,food,visited)\n",
    "            food += move(y,x-1,food,visited)\n",
    "            food += move(y+1,x,food,visited)\n",
    "            food += move(y-1,x,food,visited)\n",
    "            return food\n",
    "\n",
    "    # 지도의 모든 위치에서 move 함수 실행\n",
    "    for i in range(0,len(maps)):\n",
    "        for j in range(0,len(maps[0])):\n",
    "            answer.append(move(i,j,0,visited))\n",
    "\n",
    "    # list의 filter 함수를 사용해 리스트에 있는 값들 중 0 이상의 값만 저장 후 정렬\n",
    "    filter_answer = list(filter(lambda n:n>0, answer))\n",
    "    filter_answer.sort()\n",
    "\n",
    "    if(filter_answer):\n",
    "        return filter_answer\n",
    "    \n",
    "    return [-1]"
   ]
  },
  {
   "cell_type": "code",
   "execution_count": 12,
   "metadata": {},
   "outputs": [
    {
     "name": "stdout",
     "output_type": "stream",
     "text": [
      "[45]\n"
     ]
    }
   ],
   "source": [
    "print(solution([\"123\",\"456\",\"789\"]))"
   ]
  },
  {
   "cell_type": "code",
   "execution_count": 26,
   "metadata": {},
   "outputs": [],
   "source": [
    "def solution(storey):\n",
    "    answer = 0\n",
    "    \n",
    "    # storey가 0이 될 때까지 반복\n",
    "    while(storey != 0):\n",
    "        # value는 현재 주목할 값 storey의 맨 왼쪽 수\n",
    "        # current_len은 현재 storey의 길이\n",
    "        value = int(str(storey)[0])\n",
    "        current_len = len(str(storey))\n",
    "\n",
    "        # <value가 5이고> <현재 길이가 1보다 크고> <다음 주목할 값이 5보다 크거나 같으면>\n",
    "        # ex) 555 -> 10**3 - 555 = 445 -> 1 + 13 -> 14\n",
    "        if(value == 5 and len(str(storey)) > 1 and int(str(storey)[1]) >= 5):\n",
    "            storey = 10 ** (current_len) - storey\n",
    "            answer += 1\n",
    "        \n",
    "        # <현재 주목할 값이 6보다 작으면>\n",
    "        # ex) 3400 -> 3400 - 3000 \n",
    "        elif(value < 6):\n",
    "            storey -= value * (10 ** (current_len - 1))\n",
    "            answer += value\n",
    "        \n",
    "        # /,현재 주목할 값이 6보다 크거나 같으면>\n",
    "        # ex) 6300 -> 10000-6300\n",
    "        else:\n",
    "            storey = 10 ** (current_len) - storey\n",
    "            answer += 1\n",
    "\n",
    "    return answer"
   ]
  },
  {
   "cell_type": "code",
   "execution_count": 28,
   "metadata": {},
   "outputs": [
    {
     "name": "stdout",
     "output_type": "stream",
     "text": [
      "8\n"
     ]
    }
   ],
   "source": [
    "print(solution(6300))"
   ]
  },
  {
   "cell_type": "code",
   "execution_count": 31,
   "metadata": {},
   "outputs": [],
   "source": [
    "def solution(n, k):\n",
    "    answer = []\n",
    "\n",
    "    # n_list에 1부터 n까지 대입\n",
    "    # n! 구하기\n",
    "    n_list = []\n",
    "    n_factorial = 1\n",
    "    for i in range(1,n+1):\n",
    "        n_list.append(i)\n",
    "        n_factorial *= i\n",
    "\n",
    "    # n이 0이 될 때까지 반복\n",
    "    while(n != 0):\n",
    "        n_factorial //= n\n",
    "        quotient = k // n_factorial # 몫 \n",
    "        remainder = k % n_factorial # 나머지\n",
    "\n",
    "        # 나머지가 없으면 현재 몫-1 의 가장 마지막 배열이다\n",
    "        # ex) n이 5일 때 96배열\n",
    "        # quotient => 96 // 24 == 4\n",
    "        # remainder => 96 % 24 == 0\n",
    "        # 들어가야할 인덱스 4-1인 3 그리고 1245 의 마지막 수열\n",
    "        if(remainder == 0):\n",
    "            index = quotient-1\n",
    "            answer.append(n_list[index])\n",
    "            del n_list[index]\n",
    "            n_list.sort(reverse=True)\n",
    "            answer += n_list\n",
    "            return answer\n",
    "\n",
    "        # 나머지가 0이 아니라면 n_list[index]를 answer에 대입 후 삭제\n",
    "        k = remainder\n",
    "        answer.append(n_list[quotient])\n",
    "        del n_list[quotient]\n",
    "        n -= 1\n",
    "\n",
    "    return answer"
   ]
  },
  {
   "cell_type": "code",
   "execution_count": 30,
   "metadata": {},
   "outputs": [
    {
     "name": "stdout",
     "output_type": "stream",
     "text": [
      "[5, 4, 3, 2, 1]\n"
     ]
    }
   ],
   "source": [
    "print(solution(5,120))"
   ]
  },
  {
   "cell_type": "code",
   "execution_count": 1,
   "metadata": {},
   "outputs": [],
   "source": [
    "# 현재 리스트, 현재 들어올 값, 현재 들어올 값의 인덱스\n",
    "def check_diagnol(l,n, current_index):\n",
    "    for i in range(len(l)):\n",
    "        if((abs(n-l[i]) / (current_index-i)) == 1.0):\n",
    "            return False\n",
    "    return True\n",
    "\n",
    "def queen(l, queen_list, n):\n",
    "    if(len(l) == n):\n",
    "        queen_list.append(l)\n",
    "        l.pop()\n",
    "        return\n",
    "\n",
    "    for i in range(n):\n",
    "        if(i not in l and check_diagnol(l,i,len(l))):\n",
    "            l.append(i)\n",
    "            queen(l, queen_list, n)\n",
    "\n",
    "\n",
    "    if(l):\n",
    "        l.pop()\n",
    "\n",
    "    return 0\n",
    "\n",
    "def solution(n):\n",
    "    answer = 0\n",
    "    queen_list = []\n",
    "    queen([], queen_list, n)\n",
    "    answer = len(queen_list)\n",
    "    return answer"
   ]
  },
  {
   "cell_type": "code",
   "execution_count": 9,
   "metadata": {},
   "outputs": [
    {
     "name": "stdout",
     "output_type": "stream",
     "text": [
      "10\n"
     ]
    }
   ],
   "source": [
    "print(solution(5))"
   ]
  }
 ],
 "metadata": {
  "kernelspec": {
   "display_name": "Python 3",
   "language": "python",
   "name": "python3"
  },
  "language_info": {
   "codemirror_mode": {
    "name": "ipython",
    "version": 3
   },
   "file_extension": ".py",
   "mimetype": "text/x-python",
   "name": "python",
   "nbconvert_exporter": "python",
   "pygments_lexer": "ipython3",
   "version": "3.10.9"
  },
  "orig_nbformat": 4,
  "vscode": {
   "interpreter": {
    "hash": "cc52d96607a82427c1aa322db933a9a72802011a78e71ce98e5fc6639468df7b"
   }
  }
 },
 "nbformat": 4,
 "nbformat_minor": 2
}
