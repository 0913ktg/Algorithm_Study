{
 "cells": [
  {
   "cell_type": "code",
   "execution_count": 26,
   "metadata": {},
   "outputs": [],
   "source": [
    "# 우박수열 정적분\n",
    "import math\n",
    "\n",
    "def solution(k, ranges):\n",
    "    answer = []\n",
    "    points = [[0,k]] # 처음 포인트 0,k 추가\n",
    "    \n",
    "    # 문제에서 설명한 콜라츠 추축대로 k가 1이 될 때까지 반복\n",
    "    num = 0\n",
    "    while(k!=1):\n",
    "        if(k%2==0):\n",
    "            k //= 2\n",
    "            num+=1\n",
    "        else:\n",
    "            k = k*3 + 1\n",
    "            num+=1\n",
    "        points.append([num,k])\n",
    "\n",
    "    # points 리스트의 최대 인덱스 저장\n",
    "    points_len = len(points) - 1\n",
    "    for range in ranges:\n",
    "        # 정적분을 수행할 시작점과 끝점 저장\n",
    "        start = range[0]\n",
    "        end = points_len + range[1]\n",
    "\n",
    "        # 시작점이 끝점보다 크면 -1을 저장\n",
    "        if(start > end):\n",
    "            answer.append(-1.0)\n",
    "            continue\n",
    "\n",
    "        # 시작점이 끝점이 될 때까지 정적분 구하는 식 반복\n",
    "        s = 0\n",
    "        while(start != end):\n",
    "            s += abs((points[start][1] - points[start+1][1])/2) + min(points[start][1], points[start+1][1])\n",
    "            start += 1\n",
    "\n",
    "        answer.append(s)\n",
    "        \n",
    "    return answer"
   ]
  },
  {
   "cell_type": "code",
   "execution_count": 27,
   "metadata": {},
   "outputs": [
    {
     "name": "stdout",
     "output_type": "stream",
     "text": [
      "[33.0, 31.5, 0, -1.0]\n"
     ]
    }
   ],
   "source": [
    "print(solution(5,[[0,0],[0,-1],[2,-3],[3,-3]]))"
   ]
  },
  {
   "cell_type": "code",
   "execution_count": 129,
   "metadata": {},
   "outputs": [],
   "source": [
    "# 전력망을 둘로 나누기\n",
    "import copy\n",
    "\n",
    "# 와이어의 연결 상태를 확인하기 위한 함수 (현재 연결된 와이어의 개수, 와이어의 번호, 전체 와이어 리스트)\n",
    "def wire_link(wire_len, wire, wires):\n",
    "    # wire[:]는 wire 리스트를 복사한 리스트로 반복을 돌린다.\n",
    "    for i in wires[:]:\n",
    "        if(wire in i):\n",
    "            # 전체 와이어 리스트에 와이어의 번호가 있으면\n",
    "            # 해당 와이어를 삭제하고 연결된 다른 와이어의 번호를 전달\n",
    "            wires.remove(i)\n",
    "            i.remove(wire)\n",
    "            wire_len += 1\n",
    "            wire_len = wire_link(wire_len, i[0] ,wires)\n",
    "            \n",
    "    return wire_len\n",
    "\n",
    "def solution(n, wires):\n",
    "    answer = []\n",
    "    # 모든 와이어를 한 번씩 끊어보기 위한 반복문\n",
    "    for i in wires:\n",
    "        # 와이어 리스트를 그대로 복사\n",
    "        wires_copy = copy.deepcopy(wires)\n",
    "\n",
    "        # 끊은 와이어의 왼쪽 숫자를 wire1 오른쪽 숫자를 wire2\n",
    "        wire1 = i[0]\n",
    "        wire2 = i[1]\n",
    "        # 복사한 와이어 리스트에서 끊은 와이어 삭제\n",
    "        wires_copy.remove(i)\n",
    "\n",
    "        wire1_len = 1\n",
    "        wire2_len = 1\n",
    "        wire1_len = wire_link(wire1_len, wire1 ,wires_copy)\n",
    "        wire2_len = wire_link(wire2_len, wire2 ,wires_copy)\n",
    "        \n",
    "        answer.append(abs(wire1_len - wire2_len))\n",
    "\n",
    "    \n",
    "    return min(answer)"
   ]
  },
  {
   "cell_type": "code",
   "execution_count": 130,
   "metadata": {},
   "outputs": [
    {
     "name": "stdout",
     "output_type": "stream",
     "text": [
      "3\n"
     ]
    }
   ],
   "source": [
    "print(solution(9, [[1,3],[2,3],[3,4],[4,5],[4,6],[4,7],[7,8],[7,9]]))"
   ]
  },
  {
   "cell_type": "code",
   "execution_count": 45,
   "metadata": {},
   "outputs": [],
   "source": [
    "# 숫자 변환하기\n",
    "from collections import deque\n",
    "\n",
    "def solution(x, y, n):\n",
    "    # 넓이 우선 탐색\n",
    "    def bfs(x, y, n):\n",
    "        q = deque()\n",
    "        # x번째 인덱스에 1을 넣고 시작\n",
    "        dist[x] = 1\n",
    "        # 큐에 x 추가\n",
    "        q.append(x)\n",
    "\n",
    "        while q:\n",
    "            print(q)\n",
    "            x = q.popleft()\n",
    "            \n",
    "            # x+n, x*2, x*3이 y보다 작고\n",
    "            # x+n, x*2, x*3의 인덱스의 값이 0일 때\n",
    "            # 즉, 아직 도달하지 않은 수인지 확인\n",
    "            if x + n <= y and dist[x + n] == 0:\n",
    "                dist[x + n] = dist[x] + 1\n",
    "                q.append(x + n)\n",
    "            if x * 2 <= y and dist[x * 2] == 0:\n",
    "                dist[x * 2] = dist[x] + 1\n",
    "                q.append(x * 2)\n",
    "            if x * 3 <= y and dist[x * 3] == 0:\n",
    "                dist[x * 3] = dist[x] + 1\n",
    "                q.append(x * 3)\n",
    "\n",
    "    # y+1개의 크기를 갖는 리스트 생성\n",
    "    dist = [0] * (y+1)\n",
    "    bfs(x,y,n)\n",
    "\n",
    "    # dist[y]에 도달하기까지 연산 횟수 구하기\n",
    "    return dist[y]-1\n"
   ]
  },
  {
   "cell_type": "code",
   "execution_count": 46,
   "metadata": {},
   "outputs": [
    {
     "name": "stdout",
     "output_type": "stream",
     "text": [
      "deque([2])\n",
      "deque([4])\n",
      "-1\n"
     ]
    }
   ],
   "source": [
    "print(solution(2, 5, 4))"
   ]
  }
 ],
 "metadata": {
  "kernelspec": {
   "display_name": "Python 3",
   "language": "python",
   "name": "python3"
  },
  "language_info": {
   "codemirror_mode": {
    "name": "ipython",
    "version": 3
   },
   "file_extension": ".py",
   "mimetype": "text/x-python",
   "name": "python",
   "nbconvert_exporter": "python",
   "pygments_lexer": "ipython3",
   "version": "3.10.9"
  },
  "orig_nbformat": 4,
  "vscode": {
   "interpreter": {
    "hash": "cc52d96607a82427c1aa322db933a9a72802011a78e71ce98e5fc6639468df7b"
   }
  }
 },
 "nbformat": 4,
 "nbformat_minor": 2
}
