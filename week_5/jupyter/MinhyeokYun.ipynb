{
 "cells": [
  {
   "cell_type": "code",
   "execution_count": 10,
   "metadata": {},
   "outputs": [
    {
     "data": {
      "text/plain": [
       "8"
      ]
     },
     "execution_count": 10,
     "metadata": {},
     "output_type": "execute_result"
    }
   ],
   "source": [
    "def bridge_solution(bridge_length, weight, truck_weights):\n",
    "    answer = 0\n",
    "    trucks_on_bridge = [0] * bridge_length\n",
    "    while len(trucks_on_bridge):\n",
    "        answer += 1\n",
    "        trucks_on_bridge.pop(0)\n",
    "        if truck_weights:\n",
    "            if sum(trucks_on_bridge) + truck_weights[0] <= weight:\n",
    "                trucks_on_bridge.append(truck_weights.pop(0))\n",
    "            else:\n",
    "                trucks_on_bridge.append(0)\n",
    "    return answer\n",
    "\n",
    "bridge_solution(2,10,[7,4,5,6])"
   ]
  },
  {
   "cell_type": "code",
   "execution_count": 48,
   "metadata": {},
   "outputs": [
    {
     "name": "stdout",
     "output_type": "stream",
     "text": [
      "N : 5\n",
      "answer : 1\n",
      "\n",
      "N : 2\n",
      "answer : 1\n",
      "\n",
      "N : 1\n",
      "answer : 2\n",
      "\n"
     ]
    },
    {
     "data": {
      "text/plain": [
       "2"
      ]
     },
     "execution_count": 48,
     "metadata": {},
     "output_type": "execute_result"
    }
   ],
   "source": [
    "def jump_solution(N):\n",
    "    answer = 0\n",
    "    # N이 1이 되면 반복 종료\n",
    "    while N > 0:\n",
    "        print(\"N : \" + str(N))\n",
    "        answer += N % 2\n",
    "        print(\"answer : \" + str(answer))\n",
    "        print(\"\")\n",
    "        N //= 2\n",
    "    return answer\n",
    "\n",
    "jump_solution(5)"
   ]
  },
  {
   "cell_type": "code",
   "execution_count": 42,
   "metadata": {},
   "outputs": [
    {
     "name": "stdout",
     "output_type": "stream",
     "text": [
      "Counter({3: 2, 2: 2, 5: 2, 1: 1, 4: 1})\n",
      "[(3, 2), (2, 2), (5, 2), (1, 1), (4, 1)]\n",
      "\n",
      "Key : 3\n",
      "Value : 2\n",
      "K : 4\n",
      "\n",
      "Key : 2\n",
      "Value : 2\n",
      "K : 2\n",
      "\n",
      "Key : 5\n",
      "Value : 2\n",
      "K : 0\n",
      "\n"
     ]
    },
    {
     "data": {
      "text/plain": [
       "3"
      ]
     },
     "execution_count": 42,
     "metadata": {},
     "output_type": "execute_result"
    }
   ],
   "source": [
    "from collections import Counter\n",
    "\n",
    "def tangerine_solution(k, tangerine):\n",
    "    answer = 0\n",
    "    # [1] 자료 변환 \n",
    "    # tangerine[]의 각각의 크기에 대한 갯수의 딕셔너리를 \"갯수\" 기준으로 내림차순 정렬\n",
    "    count = sorted(Counter(tangerine).items(),reverse = True,key = lambda x : x[1])\n",
    "    print(Counter(tangerine))\n",
    "    print(count)\n",
    "    print(\"\")\n",
    "\n",
    "    # [2] 최소 종류 계산\n",
    "    # K <= 0 일때는 더이상 추가할 수 없는 경우의 수 이기 때문에 break\n",
    "    # 아니라면 k -= 귤의 갯수(value)후 상자의 넣은 귤의 종류가 3개임으로 answer += 1\n",
    "    for key, value in count:\n",
    "        if k <= 0: break\n",
    "        print(\"Key : \" + str(key))\n",
    "        print(\"Value : \" + str(value))\n",
    "        k -= value\n",
    "        print(\"K : \" + str(k))\n",
    "        print(\"\")\n",
    "        answer += 1\n",
    "    return answer\n",
    "\n",
    "tangerine_solution(6 , [1, 3, 2, 5, 4, 5, 2, 3])"
   ]
  },
  {
   "cell_type": "code",
   "execution_count": null,
   "metadata": {},
   "outputs": [],
   "source": []
  }
 ],
 "metadata": {
  "kernelspec": {
   "display_name": "Python 3",
   "language": "python",
   "name": "python3"
  },
  "language_info": {
   "codemirror_mode": {
    "name": "ipython",
    "version": 3
   },
   "file_extension": ".py",
   "mimetype": "text/x-python",
   "name": "python",
   "nbconvert_exporter": "python",
   "pygments_lexer": "ipython3",
   "version": "3.7.0"
  },
  "orig_nbformat": 4,
  "vscode": {
   "interpreter": {
    "hash": "d3786739c9f69915bdd5ca87591c61f06fda2b05b57e9a555442a493650656f2"
   }
  }
 },
 "nbformat": 4,
 "nbformat_minor": 2
}
