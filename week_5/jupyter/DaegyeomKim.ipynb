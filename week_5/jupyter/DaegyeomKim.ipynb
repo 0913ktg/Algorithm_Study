{
 "cells": [
  {
   "cell_type": "code",
   "execution_count": 4,
   "metadata": {},
   "outputs": [
    {
     "data": {
      "text/plain": [
       "50"
      ]
     },
     "execution_count": 4,
     "metadata": {},
     "output_type": "execute_result"
    }
   ],
   "source": [
    "# 캐시\n",
    "cacheSize = 3\n",
    "cities = [\"Jeju\", \"Pangyo\", \"Seoul\", \"NewYork\", \"LA\", \"Jeju\", \"Pangyo\", \"Seoul\", \"NewYork\", \"LA\"]\n",
    "\n",
    "def solution(cacheSize, cities):\n",
    "    answer = 0    \n",
    "    # 캐시로 사용할 리스트 선언\n",
    "    cache = []\n",
    "    \n",
    "    # 모든 도시 이름 확인\n",
    "    for city in cities:\n",
    "        # 모든 문자를 소문자로 바꾸기\n",
    "        city = city.lower()\n",
    "        # 캐시에 도시 이름이 있다면\n",
    "        if city in cache:\n",
    "            # 해당 도시 이름 삭제\n",
    "            cache.remove(city)\n",
    "            # 맨 앞에 도시 이름 추가\n",
    "            cache.insert(0, city)   \n",
    "            # 실행시간 1 추가         \n",
    "            answer += 1\n",
    "        # 캐시에 도시 이름이 없다면\n",
    "        else:\n",
    "            # 맨 앞에 도시 이름 추가\n",
    "            cache.insert(0, city)\n",
    "            # 실행시간 5 추가\n",
    "            answer += 5\n",
    "        # 캐시 길이보다 현재 캐시 길이가 커지면\n",
    "        if len(cache) > cacheSize:\n",
    "            # 맨 뒤에 있는 값 제거\n",
    "            cache.pop()\n",
    "    \n",
    "    return answer\n",
    "\n",
    "solution(cacheSize, cities)"
   ]
  },
  {
   "cell_type": "code",
   "execution_count": 31,
   "metadata": {},
   "outputs": [
    {
     "name": "stdout",
     "output_type": "stream",
     "text": [
      "['C', 'C', 'B', 'D', 'E']\n",
      "['A', 'A', 'A', 'D', 'E']\n",
      "['A', 'A', 'A', 'B', 'F']\n",
      "['C', 'C', 'B', 'B', 'F']\n",
      "\n",
      "['C', 'C', 'B', 'D', 'E']\n",
      "[[], [], [], 'D', 'E']\n",
      "[[], [], [], 'B', 'F']\n",
      "['C', 'C', 'B', 'B', 'F']\n",
      "\n",
      "[[], [], [], 'D', 'E']\n",
      "[[], [], [], 'D', 'E']\n",
      "['C', 'C', 'B', 'B', 'F']\n",
      "['C', 'C', 'B', 'B', 'F']\n",
      "\n",
      "[[], [], [], 'D', 'E']\n",
      "[[], [], [], 'D', 'E']\n",
      "[[], [], [], [], 'F']\n",
      "[[], [], [], [], 'F']\n",
      "\n",
      "[[], [], [], 'D', 'E']\n",
      "[[], [], [], [], 'E']\n",
      "[[], [], [], [], 'F']\n",
      "[[], [], [], 'D', 'F']\n",
      "\n",
      "[[], [], [], [], 'E']\n",
      "[[], [], [], [], 'E']\n",
      "[[], [], [], 'D', 'F']\n",
      "[[], [], [], 'D', 'F']\n",
      "\n"
     ]
    },
    {
     "data": {
      "text/plain": [
       "14"
      ]
     },
     "execution_count": 31,
     "metadata": {},
     "output_type": "execute_result"
    }
   ],
   "source": [
    "# 프렌즈 4블록\n",
    "m, n = 4, 5\n",
    "board = [\"CCBDE\", \"AAADE\", \"AAABF\", \"CCBBF\"]\n",
    "\n",
    "def solution(m, n, board):\n",
    "    for i in range(m):\n",
    "        board[i] = list(board[i])\n",
    "    \n",
    "    for row in board:\n",
    "        print(row)\n",
    "    print()\n",
    "    \n",
    "    answer = 0\n",
    "    # 겹치는 부분도 동시에 제거해야 하므로 집합을 사용해서 한번에 제거\n",
    "    remove_set = set()\n",
    "    \n",
    "    while True:\n",
    "        # 보드를 순회하며 4블록이 된 곳의 좌표를 집합에 기록\n",
    "        # m-1, n-1 한 이유는 검사해야할 좌표는 1칸씩 적기 때문\n",
    "        for i in range(m-1):\n",
    "            for j in range(n-1):\n",
    "                # 현재 좌표의 캐릭터를 저장\n",
    "                t = board[i][j]\n",
    "                # 비어있는 좌표인 경우 다음으로 넘어감\n",
    "                if t == []:\n",
    "                    continue\n",
    "                # 2x2 블록일 경우 지우는 규칙이므로 오른쪽, 아래, 대각선만 검사\n",
    "                if board[i+1][j] == t and board[i][j+1] == t and board[i+1][j+1] == t:\n",
    "                    remove_set.add((i,j));remove_set.add((i+1,j))\n",
    "                    remove_set.add((i,j+1));remove_set.add((i+1,j+1))\n",
    "        \n",
    "        # 좌표가 존재한다면 집합의 길이만큼 세주고 블록을 지움 \n",
    "        if remove_set:\n",
    "            answer += len(remove_set)\n",
    "            for i,j in remove_set:\n",
    "                board[i][j] = []\n",
    "            remove_set = set()\n",
    "        # 없다면 함수 종료\n",
    "        else:\n",
    "            return answer\n",
    "        \n",
    "        # 블록을 위에서 아래로 당겨줌\n",
    "        # 한번만 당기면 중간에 뜨는 경우가 생길 수 있으므로 while 반복 사용\n",
    "        while True:\n",
    "            for row in board:\n",
    "                print(row)\n",
    "            print()\n",
    "            moved = 0\n",
    "        \n",
    "            for i in range(m-1):\n",
    "                for j in range(n):\n",
    "                    # 현재 좌표에 값이 있고 바로 아래 좌표가 비었다면\n",
    "                    if board[i][j] and board[i+1][j]==[]:\n",
    "                        # 위 아래 스왑\n",
    "                        board[i+1][j] = board[i][j]\n",
    "                        board[i][j] = []\n",
    "                        # 이동을 했는지 안했는지 알 수 있는 flag\n",
    "                        moved = 1\n",
    "            # 위에서 이동을 한번도 하지 않았으면 이동할 블록이 없는 것이기 때문에 while 탈출\n",
    "            if moved == 0:\n",
    "                break\n",
    "\n",
    "solution(m, n, board)"
   ]
  },
  {
   "cell_type": "code",
   "execution_count": 24,
   "metadata": {},
   "outputs": [
    {
     "data": {
      "text/plain": [
       "[['C', 'C', 'B', 'D', 'E'],\n",
       " [[], 'A', [], 'D', 'E'],\n",
       " ['A', 'A', 'A', 'B', 'F'],\n",
       " [[], 'C', 'B', 'B', 'F']]"
      ]
     },
     "execution_count": 24,
     "metadata": {},
     "output_type": "execute_result"
    }
   ],
   "source": [
    "i,j = 0,0\n",
    "for i in range(m):\n",
    "    board[i] = list(board[i])\n",
    "board[1][0] = []\n",
    "\n",
    "board\n",
    "# if board[i][j] and board[1][0] == []:\n",
    "#     print(1)\n"
   ]
  },
  {
   "cell_type": "code",
   "execution_count": null,
   "metadata": {},
   "outputs": [],
   "source": []
  },
  {
   "cell_type": "code",
   "execution_count": 8,
   "metadata": {},
   "outputs": [
    {
     "data": {
      "text/plain": [
       "[1, 4, 3]"
      ]
     },
     "execution_count": 8,
     "metadata": {},
     "output_type": "execute_result"
    }
   ],
   "source": [
    "a = [1,4,2,3]\n",
    "a.remove(2)\n",
    "\n",
    "a"
   ]
  }
 ],
 "metadata": {
  "kernelspec": {
   "display_name": "Python 3",
   "language": "python",
   "name": "python3"
  },
  "language_info": {
   "codemirror_mode": {
    "name": "ipython",
    "version": 3
   },
   "file_extension": ".py",
   "mimetype": "text/x-python",
   "name": "python",
   "nbconvert_exporter": "python",
   "pygments_lexer": "ipython3",
   "version": "3.8.10"
  },
  "orig_nbformat": 4,
  "vscode": {
   "interpreter": {
    "hash": "31f2aee4e71d21fbe5cf8b01ff0e069b9275f58929596ceb00d14d90e3e16cd6"
   }
  }
 },
 "nbformat": 4,
 "nbformat_minor": 2
}
