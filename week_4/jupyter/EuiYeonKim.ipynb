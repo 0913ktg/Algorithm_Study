{
 "cells": [
  {
   "attachments": {},
   "cell_type": "markdown",
   "metadata": {},
   "source": [
    "# 124 나라의 숫자"
   ]
  },
  {
   "cell_type": "code",
   "execution_count": null,
   "metadata": {},
   "outputs": [],
   "source": [
    "def solution(n):\n",
    "    answer = ''\n",
    "    # n을 1씩 감소해주어 맞추어야함\n",
    "    n -= 1\n",
    "    # 각 3진수 숫자가 들어갈 list (append하기 떄문에 역순으로 추가됨)\n",
    "    digit_list = list()\n",
    "    # n이 0이라면 특수하게 1을 반환 (앞에서 1을 빼주는 로직을 수행하기 때문)\n",
    "    if n == 0:\n",
    "        return '1'\n",
    "    # 몫과 나머지를 통해 3진수 숫자를 구함\n",
    "    while n > 0:\n",
    "        n, digit_num = n // 3, n % 3\n",
    "\n",
    "        digit_list.append(digit_num)\n",
    "    # 내가 찾은 로직대로라면 첫번 쨰 자리를 제외하고 모두 -1씩 해주어야함\n",
    "    digit_list = [num if i == 0 else num - 1 for i, num in enumerate(digit_list)]\n",
    "    # 각 자리가 음수가 되는 경우에 대한 처리\n",
    "    for i, digit in enumerate(digit_list):\n",
    "        # 여기서 마지막 자리이면서 음수인 경우는 그냥 무시해야함\n",
    "        if i == len(digit_list) -1 and digit < 0:\n",
    "            del digit_list[i]\n",
    "            break\n",
    "        # 0보다 작으면 앞 자리에서 1을 빌려워 3을 채워줌\n",
    "        if digit < 0:\n",
    "            digit_list[i + 1] -= 1\n",
    "            digit_list[i] += 3\n",
    "    # 마지막으로 2의 거듭제곱 형태로 표현\n",
    "    digit_list = list(map(lambda x : str(2 ** x), digit_list))\n",
    "    # 뒤집어서 str로 변환\n",
    "    answer = ''.join(digit_list[::-1])\n",
    "    \n",
    "    return answer"
   ]
  },
  {
   "attachments": {},
   "cell_type": "markdown",
   "metadata": {},
   "source": [
    "# 택배상자"
   ]
  },
  {
   "cell_type": "code",
   "execution_count": null,
   "metadata": {},
   "outputs": [],
   "source": [
    "from collections import deque\n",
    "\n",
    "def solution(order):\n",
    "    answer = 0\n",
    "\n",
    "    # 시간 복잡도를 줄이기 위해 deque 사용\n",
    "    order = deque(order)\n",
    "\n",
    "    # 보조 컨베이어 벨트 (stack)\n",
    "    assistance_conveyor = list()\n",
    "    # 순서대로 오는 박스의 번호 (1부터 시작)\n",
    "    order_box = 0\n",
    "    # 배달 기사에게 전달해야할 박스 번호 (order에서 하나씩 popleft)\n",
    "    target_box = order.popleft()\n",
    "    # 박스 번호의 최댓값(배열의 길이만큼)\n",
    "    max_num = len(order) + 1\n",
    "\n",
    "    while order:\n",
    "        # 순서대로 오는 order_box의 번호와 보조 컨베이어의 마지막에 있는 번호가 target보다 크면 반복을 종료 \n",
    "        if target_box < order_box and len(assistance_conveyor) and target_box < assistance_conveyor[-1]:\n",
    "            break\n",
    "        if not order and not assistance_conveyor:\n",
    "            break\n",
    "\n",
    "        # 보조 컨베이어 벨트를 사용할 수 있는지 여부\n",
    "        is_use_assistance = False\n",
    "        while assistance_conveyor:\n",
    "            # 보조 컨베이어 벨트의 마지막과 target_box의 번호가 같으면 가능\n",
    "            if target_box == assistance_conveyor[-1]:\n",
    "                answer += 1\n",
    "                is_use_assistance = True\n",
    "                assistance_conveyor.pop()\n",
    "                if order:\n",
    "                    target_box = order.popleft()\n",
    "            else:                \n",
    "                break\n",
    "\n",
    "        # 아래에 order_box를 하나씩 증가시키는 로직을 피하기 위해 continue\n",
    "        if is_use_assistance:\n",
    "            continue\n",
    "        \n",
    "        # order_box가 max_num보다 작다면, 즉 아직 최대 숫자의 box가 나오기 전이라면\n",
    "        if order_box < max_num:\n",
    "            # order_box를 하나씩 증가(켄베이어 벨트에서 하나씩 상자가 나오는 동작)\n",
    "            order_box += 1\n",
    "            if order_box == target_box:\n",
    "                answer += 1\n",
    "                # 다음 타겟을 설정\n",
    "                if order:\n",
    "                    target_box = order.popleft()\n",
    "                continue\n",
    "            # 같지 않으면 보조 컨베이어 벨트에 추가\n",
    "            else:\n",
    "                assistance_conveyor.append(order_box)\n",
    "                continue\n",
    "        \n",
    "    return answer"
   ]
  },
  {
   "attachments": {},
   "cell_type": "markdown",
   "metadata": {},
   "source": [
    "# 후보키"
   ]
  },
  {
   "cell_type": "code",
   "execution_count": null,
   "metadata": {},
   "outputs": [],
   "source": [
    "from itertools import combinations\n",
    "\n",
    "def solution(relation):\n",
    "    answer = 0\n",
    "\n",
    "    # 최소성 조건을 위해 이미 후보키로 사용된 column을 저장할 리스트\n",
    "    used_col = list()\n",
    "\n",
    "    # combination을 통해 총 컬럼에서 1부터 컬럼의 길이만큼 후보키의 모든 경우의 수를\n",
    "    for i in range(1, len(relation[0]) + 1):\n",
    "        # combinations를 이용해 리스트 후보군에서 i개를 뽑는 모든 경우의 수를 반환해줌\n",
    "        for col_indices in combinations([x for x in range(len(relation[0]))], i):\n",
    "            # 최소성 검사를 위한 bool 변수\n",
    "            is_unusable = False\n",
    "\n",
    "            # 후보키로 사용된 컬럼을 반복\n",
    "            for used in used_col:\n",
    "                # set으로 만들었을 때와의 길이와 같다면 겹치즌 부분이 있는것\n",
    "                if (len(set(used + col_indices)) == len(col_indices)):\n",
    "                    # 겹치는 부분이 있으면 최소 조건을 만족하지 않음\n",
    "                    is_unusable = True\n",
    "                    break\n",
    "            # 최소조건을 만족한다면 다음 반복으로\n",
    "            if is_unusable:\n",
    "                continue\n",
    "\n",
    "            # relation의 각 row에서 conbination을 통해 뽑은 index를 통해 인덱싱\n",
    "            candidate_list = [tuple(row[index] for index in col_indices) for row in relation]\n",
    "            print(candidate_list)\n",
    "            # set의 길이와 같다면 중복 되는 것이 없음\n",
    "            if len(candidate_list) == len(set(candidate_list)):\n",
    "                used_col.append(col_indices)\n",
    "                answer += 1\n",
    "\n",
    "    return answer"
   ]
  }
 ],
 "metadata": {
  "kernelspec": {
   "display_name": "Python 3",
   "language": "python",
   "name": "python3"
  },
  "language_info": {
   "codemirror_mode": {
    "name": "ipython",
    "version": 3
   },
   "file_extension": ".py",
   "mimetype": "text/x-python",
   "name": "python",
   "nbconvert_exporter": "python",
   "pygments_lexer": "ipython3",
   "version": "3.11.1"
  },
  "orig_nbformat": 4,
  "vscode": {
   "interpreter": {
    "hash": "7cdde6be2ce61636954944a5e9b1c358dff3df7ed2ca2b196c05426cdab6309a"
   }
  }
 },
 "nbformat": 4,
 "nbformat_minor": 2
}
