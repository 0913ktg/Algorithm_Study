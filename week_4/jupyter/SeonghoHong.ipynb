{
 "cells": [
  {
   "cell_type": "code",
   "execution_count": 1,
   "metadata": {},
   "outputs": [],
   "source": [
    "# 기능 개발\n",
    "\n",
    "import math\n",
    "from collections import deque\n",
    "def solution(progresses, speeds):\n",
    "    answer = []\n",
    "    days = []\n",
    "\n",
    "    # 각 작업별로 걸리는 날짜를 days 리스트에 저장\n",
    "    for i in range(0,len(progresses)):\n",
    "        days.append(int(math.ceil((100-progresses[i]) / speeds[i])))\n",
    "    deq = deque(days)\n",
    "\n",
    "    # 자기 자신 작업까지 cnt = 1부터 시작\n",
    "    cnt = 1\n",
    "    while(deq):\n",
    "        # 현재 작업에 걸리는 시간을 빼 줌\n",
    "        current_days = deq.popleft()\n",
    "        while(deq):\n",
    "            # 뒤의 작업이 현재 작업보다 빨리 끝나면\n",
    "            # 해당 작업을 deq에서 제외시키고 cnt 증가\n",
    "            if(current_days >= deq[0]):\n",
    "                deq.popleft()\n",
    "                cnt+=1\n",
    "            else:\n",
    "                break\n",
    "\n",
    "        answer.append(cnt)\n",
    "        cnt = 1\n",
    "\n",
    "    return answer\n",
    "\n"
   ]
  },
  {
   "cell_type": "code",
   "execution_count": 2,
   "metadata": {},
   "outputs": [
    {
     "data": {
      "text/plain": [
       "[1, 3, 2]"
      ]
     },
     "execution_count": 2,
     "metadata": {},
     "output_type": "execute_result"
    }
   ],
   "source": [
    "solution([95, 90, 99, 99, 80, 99],[1, 1, 1, 1, 1, 1])"
   ]
  },
  {
   "cell_type": "code",
   "execution_count": 3,
   "metadata": {},
   "outputs": [],
   "source": [
    "# 주식가격\n",
    "\n",
    "from collections import deque\n",
    "\n",
    "def solution(prices):\n",
    "    # 주식 가격이 담긴 prices를 deque로 저장\n",
    "    deq = deque(prices)\n",
    "    answer = []\n",
    "\n",
    "    # deq가 비어있을 때까지 반복\n",
    "    while(deq):\n",
    "        # 가장 왼쪽의 주식 가격을 빼 current_price로 저장\n",
    "        current_price = deq.popleft()\n",
    "        cnt = 0\n",
    "\n",
    "        # 현재 주식 가격을 뺀 deq 반복을 돌면서\n",
    "        # 주식 가격이 떨어지기 전까지 cnt 증가\n",
    "        # 주식 가격이 떨어졌어도 해당 시점까지 떨어지지 않은 것이기 때문에 마찬가지로 cnt 증가 후 break\n",
    "        for price in deq:\n",
    "            if(current_price<=price):\n",
    "                cnt += 1\n",
    "            else:\n",
    "                cnt +=1\n",
    "                break\n",
    "        answer.append(cnt)\n",
    "\n",
    "\n",
    "    return answer"
   ]
  },
  {
   "cell_type": "code",
   "execution_count": 4,
   "metadata": {},
   "outputs": [
    {
     "name": "stdout",
     "output_type": "stream",
     "text": [
      "[4, 3, 1, 1, 0]\n"
     ]
    }
   ],
   "source": [
    "print(solution([1, 2, 3, 2, 3]))"
   ]
  },
  {
   "cell_type": "code",
   "execution_count": 35,
   "metadata": {},
   "outputs": [],
   "source": [
    "# k진수에서 소수 구하기\n",
    "\n",
    "import math\n",
    "\n",
    "# 소수인지 아닌 지 판별하는 함수\n",
    "# 2부터 루트n 까지 약수가 없으면 소수\n",
    "def check_decimal(n):\n",
    "    if(n == 1):\n",
    "        return False\n",
    "    for i in range(2,int(math.sqrt(n))+1):\n",
    "        if(n % i == 0):\n",
    "            return False\n",
    "    return True\n",
    "\n",
    "def solution(n, k):\n",
    "    answer = 0\n",
    "    essence = \"\"\n",
    "    \n",
    "    # n을 k로 나누면서 몫 : n 나머지 : mod 로 분리\n",
    "    # essence에 나머지를 저장하다 마지막에 문자열을 뒤집어준다\n",
    "    # 45/3 15/3 5/3 1/3 \n",
    "    # 0    0    2   1\n",
    "    # 1200(3) = 45\n",
    "    while(n>0):\n",
    "        n, mod = divmod(n,k)\n",
    "        essence += str(mod)\n",
    "    essence = essence[::-1].split(\"0\")\n",
    "\n",
    "    # eesence를 0으로 split한 리스트를 반복하면서 소수 구하기\n",
    "    for i in essence:\n",
    "        if(i == ''):\n",
    "            continue\n",
    "        else:\n",
    "            if(check_decimal(int(i))):\n",
    "                answer+=1\n",
    "\n",
    "    return answer"
   ]
  },
  {
   "cell_type": "code",
   "execution_count": 37,
   "metadata": {},
   "outputs": [
    {
     "name": "stdout",
     "output_type": "stream",
     "text": [
      "2\n"
     ]
    }
   ],
   "source": [
    "print(solution(110011,10))"
   ]
  },
  {
   "cell_type": "code",
   "execution_count": 30,
   "metadata": {},
   "outputs": [],
   "source": [
    "# 거리두기 확인하기\n",
    "\n",
    "# 이동하는 함수\n",
    "def move(i,j,direction,room,check):\n",
    "    # 이미 거리두기를 지키지 않음, 즉 check가 True일 때 탈출\n",
    "    # 인덱스 벗어날 때 탈출\n",
    "    # X일때 탈출\n",
    "    # P이면 check를 True 반환\n",
    "    if(check):\n",
    "        return True\n",
    "    if(i<0 or j<0 or i>4 or j>4):\n",
    "        return False\n",
    "    elif(room[i][j]==\"X\"):\n",
    "        return False\n",
    "    elif(room[i][j]==\"P\"):\n",
    "        return True\n",
    "    else:\n",
    "        if(direction == \"up\"):\n",
    "            check = move(i+1, j, \"stop\", room, check)\n",
    "            check = move(i, j+1, \"stop\", room, check)\n",
    "            check = move(i, j-1, \"stop\", room, check)\n",
    "        if(direction == \"down\"):\n",
    "            check = move(i-1, j, \"stop\", room, check)\n",
    "            check = move(i, j+1, \"stop\", room, check)\n",
    "            check = move(i, j-1, \"stop\", room, check)\n",
    "        if(direction == \"right\"):\n",
    "            check = move(i+1, j, \"stop\", room, check)\n",
    "            check = move(i-1, j, \"stop\", room, check)\n",
    "            check = move(i, j+1, \"stop\", room, check)\n",
    "        if(direction == \"left\"):\n",
    "            check = move(i+1, j, \"stop\", room, check)\n",
    "            check = move(i-1, j, \"stop\", room, check)\n",
    "            check = move(i, j-1, \"stop\", room, check)\n",
    "\n",
    "    return check\n",
    "\n",
    "def solution(places):\n",
    "    answer = []\n",
    "    for place in places:\n",
    "        # 길이 5배열이 5개가 있는 1차원 배열을 5X5 2차원 배열로 변환\n",
    "        room = [[] for i in range(len(place))]\n",
    "        for i in range(0,len(place)):\n",
    "            for j in range(0, len(place[0])):\n",
    "                room[i].append(place[i][j])\n",
    "\n",
    "        # check = True 거리두기 지키지 않음\n",
    "        # check = False 거리두기 지킴\n",
    "        check = False\n",
    "        for i in range(0,len(room)):\n",
    "            for j in range(0,len(room[0])):\n",
    "                # P일 때만 주위 검사\n",
    "                if(room[i][j] == \"P\"):\n",
    "                    check = move(i+1, j, \"up\", room, check)\n",
    "                    check = move(i-1, j, \"down\", room, check)\n",
    "                    check = move(i, j+1, \"right\", room, check)\n",
    "                    check = move(i, j-1, \"left\", room, check)\n",
    "\n",
    "        if(check):\n",
    "            answer.append(0)\n",
    "        else:\n",
    "            answer.append(1)\n",
    "    return answer"
   ]
  },
  {
   "cell_type": "code",
   "execution_count": 31,
   "metadata": {},
   "outputs": [
    {
     "name": "stdout",
     "output_type": "stream",
     "text": [
      "[0]\n"
     ]
    }
   ],
   "source": [
    "print(solution([[\"POOOP\", \"XPXOX\", \"OXXXX\", \"OOXOX\", \"POXXP\"]]))"
   ]
  }
 ],
 "metadata": {
  "kernelspec": {
   "display_name": "Python 3",
   "language": "python",
   "name": "python3"
  },
  "language_info": {
   "codemirror_mode": {
    "name": "ipython",
    "version": 3
   },
   "file_extension": ".py",
   "mimetype": "text/x-python",
   "name": "python",
   "nbconvert_exporter": "python",
   "pygments_lexer": "ipython3",
   "version": "3.10.9"
  },
  "orig_nbformat": 4,
  "vscode": {
   "interpreter": {
    "hash": "cc52d96607a82427c1aa322db933a9a72802011a78e71ce98e5fc6639468df7b"
   }
  }
 },
 "nbformat": 4,
 "nbformat_minor": 2
}
