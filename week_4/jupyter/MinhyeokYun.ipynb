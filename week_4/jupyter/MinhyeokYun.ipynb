{
 "cells": [
  {
   "cell_type": "code",
   "execution_count": 83,
   "metadata": {},
   "outputs": [],
   "source": [
    "from collections import Counter\n",
    "\n",
    "def solution(s):\n",
    "    answer = []\n",
    "    word = s.replace(\"{\",\"\").replace(\"}\", \"\").split(\",\")\n",
    "    print(word)\n",
    "    count_word = Counter(word).most_common()\n",
    "    print(count_word)\n",
    "\n",
    "    for i in count_word:\n",
    "        print(\"for문 cont word : \" + str(i))\n",
    "        answer.append(int(i[0]))\n",
    "    return answer"
   ]
  },
  {
   "cell_type": "code",
   "execution_count": 84,
   "metadata": {},
   "outputs": [
    {
     "name": "stdout",
     "output_type": "stream",
     "text": [
      "['2', '1', '3', '2', '1', '2', '1', '3', '4', '2']\n",
      "[('2', 4), ('1', 3), ('3', 2), ('4', 1)]\n",
      "for문 cont word : ('2', 4)\n",
      "for문 cont word : ('1', 3)\n",
      "for문 cont word : ('3', 2)\n",
      "for문 cont word : ('4', 1)\n",
      "[2, 1, 3, 4]\n"
     ]
    }
   ],
   "source": [
    "print(solution(\"{{2,1,3},{2,1},{2,1,3,4},{2}}\"))"
   ]
  },
  {
   "cell_type": "code",
   "execution_count": 1,
   "metadata": {},
   "outputs": [],
   "source": [
    "from collections import Counter\n",
    "def solution(topping):\n",
    "    answer = 0\n",
    "\n",
    "    # me에 전체 토핑의 수 저장 \n",
    "    me = Counter(topping)\n",
    "    print(me)\n",
    "    # bro에 반복을 돌며 해당 인덱스에서 얻을수 있는 토핑수를 \n",
    "    # 저장할 딕셔너리 생성 Key : Value = 토핑 : 갯수 \n",
    "    bro = {}\n",
    "    \n",
    "    for i in range(len(topping)) :\n",
    "        # topping[i]에 해당하는 Key값이 bro에 존재한다면\n",
    "        # 갯수 + 1\n",
    "        if topping[i] in bro :\n",
    "            bro[topping[i]] += 1\n",
    "        # 없다면 그냥 1 \n",
    "        else :\n",
    "            bro[topping[i]] = 1\n",
    "\n",
    "        # 위 반복에서 topping[i] 토핑을 1개 뺐겼음으로\n",
    "        # 1개 감소 시켜줌  \n",
    "        me[topping[i]] -= 1\n",
    "        \n",
    "        # 해당 종류의 토핑을 전부 뺐겼다면 해당 토핑은 me가\n",
    "        # 가지고 있는 것이 아니기 때문에 del 해주기 -> len이 -1\n",
    "        if me[topping[i]] == 0 :\n",
    "            del me[topping[i]]\n",
    "        \n",
    "        # bro 와 me 의 토핑의 가짓수가 같다면 answer += 1\n",
    "        if len(bro) == len(me) :\n",
    "            answer +=1\n",
    "    \n",
    "    return answer"
   ]
  },
  {
   "cell_type": "code",
   "execution_count": 2,
   "metadata": {},
   "outputs": [
    {
     "name": "stdout",
     "output_type": "stream",
     "text": [
      "Counter({1: 4, 2: 2, 3: 1, 4: 1})\n",
      "2\n"
     ]
    }
   ],
   "source": [
    "print(solution([1, 2, 1, 3, 1, 4, 1, 2]))"
   ]
  },
  {
   "cell_type": "code",
   "execution_count": 44,
   "metadata": {},
   "outputs": [],
   "source": [
    "def solution(cards):\n",
    "    \n",
    "    answer = []\n",
    "\n",
    "    for i in range(len(cards)):\n",
    "    \n",
    "        tmp = []\n",
    "    \n",
    "        while cards[i] not in tmp:\n",
    "            # 들렸는지 안들렸는지에 대한 값을 저장할 tmp list에 cards[i] 값을 삽입 \n",
    "            tmp.append(cards[i])\n",
    "            # print(\"tmp : \" + str(tmp))\n",
    "            # i 즉 인덱스를 cards[i] - 1 값으로 저장해줌 -> 처음 방문한 상자의 카드 값에 해당하는 인덱스로 이동\n",
    "            i = cards[i] - 1\n",
    "\n",
    "        # 정답에 값을 삽입해줌    \n",
    "        answer.append([] if sorted(tmp) in answer else sorted(tmp))\n",
    "    \n",
    "    answer.sort(key=len)\n",
    "    \n",
    "    return len(answer[-1]) * len(answer[-2])"
   ]
  },
  {
   "cell_type": "code",
   "execution_count": 45,
   "metadata": {},
   "outputs": [
    {
     "name": "stdout",
     "output_type": "stream",
     "text": [
      "12\n"
     ]
    }
   ],
   "source": [
    "cards = [8,6,3,7,2,5,1,4]\n",
    "\n",
    "print(solution(cards))"
   ]
  }
 ],
 "metadata": {
  "kernelspec": {
   "display_name": "Python 3",
   "language": "python",
   "name": "python3"
  },
  "language_info": {
   "codemirror_mode": {
    "name": "ipython",
    "version": 3
   },
   "file_extension": ".py",
   "mimetype": "text/x-python",
   "name": "python",
   "nbconvert_exporter": "python",
   "pygments_lexer": "ipython3",
   "version": "3.7.0"
  },
  "orig_nbformat": 4,
  "vscode": {
   "interpreter": {
    "hash": "d3786739c9f69915bdd5ca87591c61f06fda2b05b57e9a555442a493650656f2"
   }
  }
 },
 "nbformat": 4,
 "nbformat_minor": 2
}
